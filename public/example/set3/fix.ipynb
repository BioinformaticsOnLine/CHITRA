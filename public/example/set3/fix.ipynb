{
 "cells": [
  {
   "cell_type": "code",
   "execution_count": 3,
   "metadata": {},
   "outputs": [
    {
     "name": "stdout",
     "output_type": "stream",
     "text": [
      "Chromosome IDs have been updated successfully in all files.\n"
     ]
    }
   ],
   "source": [
    "import pandas as pd\n",
    "\n",
    "# Paths to the input files\n",
    "synteny_data_path = '/Users/pranjalpruthi/Documents/GitHub/chitra/public/example/set3/synteny_data.csv'\n",
    "species_data_path = '/Users/pranjalpruthi/Documents/GitHub/chitra/public/example/set3/species_data.csv'\n",
    "bp_data_path = '/Users/pranjalpruthi/Documents/GitHub/chitra/public/example/set3/bp.csv'\n",
    "\n",
    "# Function to add 'chr' prefix only if it doesn't already exist\n",
    "def add_chr_prefix(column):\n",
    "    return column.apply(lambda x: f'chr {x}' if not str(x).startswith('chr ') else x)\n",
    "\n",
    "# Read the synteny data\n",
    "synteny_data = pd.read_csv(synteny_data_path)\n",
    "\n",
    "# Modify the ref_chr and query_chr columns (only if 'chr' prefix is missing)\n",
    "synteny_data['ref_chr'] = add_chr_prefix(synteny_data['ref_chr'])\n",
    "synteny_data['query_chr'] = add_chr_prefix(synteny_data['query_chr'])\n",
    "\n",
    "# Save the modified synteny data back to the same file\n",
    "synteny_data.to_csv(synteny_data_path, index=False)\n",
    "\n",
    "# Read the species data\n",
    "species_data = pd.read_csv(species_data_path)\n",
    "\n",
    "# Modify the chr_id column (only if 'chr' prefix is missing)\n",
    "species_data['chr_id'] = add_chr_prefix(species_data['chr_id'])\n",
    "\n",
    "# Save the modified species data back to the same file\n",
    "species_data.to_csv(species_data_path, index=False)\n",
    "\n",
    "# Read the breakpoint data\n",
    "bp_data = pd.read_csv(bp_data_path)\n",
    "\n",
    "# Modify the ref_chr column (only if 'chr' prefix is missing)\n",
    "bp_data['ref_chr'] = add_chr_prefix(bp_data['ref_chr'])\n",
    "\n",
    "# Save the modified breakpoint data back to the same file\n",
    "bp_data.to_csv(bp_data_path, index=False)\n",
    "\n",
    "print(\"Chromosome IDs have been updated successfully in all files.\")"
   ]
  },
  {
   "cell_type": "code",
   "execution_count": 1,
   "metadata": {},
   "outputs": [
    {
     "name": "stdout",
     "output_type": "stream",
     "text": [
      "Spaces removed successfully from chromosome identifiers.\n"
     ]
    }
   ],
   "source": [
    "import pandas as pd\n",
    "\n",
    "# Define the paths to your CSV files\n",
    "species_data_path = '/Users/pranjalpruthi/Documents/GitHub/chitra/public/example/set3/species_data.csv'\n",
    "synteny_data_path = '/Users/pranjalpruthi/Documents/GitHub/chitra/public/example/set3/synteny_data.csv'\n",
    "\n",
    "# Load species data and clean 'chr_id'\n",
    "species_df = pd.read_csv(species_data_path)\n",
    "species_df['chr_id'] = species_df['chr_id'].str.replace(\" \", \"\", regex=False)\n",
    "\n",
    "# Save the cleaned species data\n",
    "species_df.to_csv(species_data_path, index=False)\n",
    "\n",
    "# Load synteny data and clean 'ref_chr' and 'query_chr'\n",
    "synteny_df = pd.read_csv(synteny_data_path)\n",
    "synteny_df['ref_chr'] = synteny_df['ref_chr'].str.replace(\" \", \"\", regex=False)\n",
    "synteny_df['query_chr'] = synteny_df['query_chr'].str.replace(\" \", \"\", regex=False)\n",
    "\n",
    "# Save the cleaned synteny data\n",
    "synteny_df.to_csv(synteny_data_path, index=False)\n",
    "\n",
    "print(\"Spaces removed successfully from chromosome identifiers.\")\n"
   ]
  },
  {
   "cell_type": "code",
   "execution_count": 2,
   "metadata": {},
   "outputs": [
    {
     "name": "stdout",
     "output_type": "stream",
     "text": [
      "Spaces removed successfully from chromosome identifiers.\n"
     ]
    }
   ],
   "source": [
    "import pandas as pd\n",
    "\n",
    "bp_data_path = '/Users/pranjalpruthi/Documents/GitHub/chitra/public/example/set3/bp.csv'\n",
    "\n",
    "\n",
    "\n",
    "# Load breakpoint data and clean 'ref_chr'\n",
    "bp_df = pd.read_csv(bp_data_path)\n",
    "bp_df['ref_chr'] = bp_df['ref_chr'].str.replace(\" \", \"\", regex=False)\n",
    "\n",
    "# Save the cleaned breakpoint data\n",
    "bp_df.to_csv(bp_data_path, index=False)\n",
    "\n",
    "print(\"Spaces removed successfully from chromosome identifiers.\")"
   ]
  }
 ],
 "metadata": {
  "kernelspec": {
   "display_name": "amr",
   "language": "python",
   "name": "python3"
  },
  "language_info": {
   "codemirror_mode": {
    "name": "ipython",
    "version": 3
   },
   "file_extension": ".py",
   "mimetype": "text/x-python",
   "name": "python",
   "nbconvert_exporter": "python",
   "pygments_lexer": "ipython3",
   "version": "3.11.9"
  }
 },
 "nbformat": 4,
 "nbformat_minor": 2
}
